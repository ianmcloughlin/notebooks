{
 "cells": [
  {
   "cell_type": "markdown",
   "metadata": {},
   "source": [
    "# Random Numbers in numpy\n",
    "\n",
    "***"
   ]
  },
  {
   "cell_type": "code",
   "execution_count": 1,
   "metadata": {},
   "outputs": [],
   "source": [
    "# Numerical arrays, random numbers.\n",
    "import numpy as np\n",
    "\n",
    "# Plots.\n",
    "import matplotlib.pyplot as plt"
   ]
  },
  {
   "cell_type": "markdown",
   "metadata": {},
   "source": [
    "## Python Standard Library\n",
    "\n",
    "https://docs.python.org/3/library/random.html\n",
    "\n",
    "***"
   ]
  },
  {
   "cell_type": "code",
   "execution_count": 2,
   "metadata": {},
   "outputs": [],
   "source": [
    "# The random module from the standard library.\n",
    "import random"
   ]
  },
  {
   "cell_type": "code",
   "execution_count": 3,
   "metadata": {},
   "outputs": [
    {
     "name": "stdout",
     "output_type": "stream",
     "text": [
      "\u001b[0;31mSignature:\u001b[0m \u001b[0mrandom\u001b[0m\u001b[0;34m.\u001b[0m\u001b[0mrandint\u001b[0m\u001b[0;34m(\u001b[0m\u001b[0ma\u001b[0m\u001b[0;34m,\u001b[0m \u001b[0mb\u001b[0m\u001b[0;34m)\u001b[0m\u001b[0;34m\u001b[0m\u001b[0;34m\u001b[0m\u001b[0m\n",
      "\u001b[0;31mDocstring:\u001b[0m\n",
      "Return random integer in range [a, b], including both end points.\n",
      "        \n",
      "\u001b[0;31mFile:\u001b[0m      ~/miniconda3/lib/python3.12/random.py\n",
      "\u001b[0;31mType:\u001b[0m      method"
     ]
    }
   ],
   "source": [
    "# Using autocomplete, we can a get a flavour of the module.\n",
    "# Putting a question mark in front of a function name prints\n",
    "# a little help message.\n",
    "?random.randint"
   ]
  },
  {
   "cell_type": "code",
   "execution_count": 4,
   "metadata": {},
   "outputs": [
    {
     "data": {
      "text/plain": [
       "17"
      ]
     },
     "execution_count": 4,
     "metadata": {},
     "output_type": "execute_result"
    }
   ],
   "source": [
    "# Based on the above, we can generate a random integer between\n",
    "# 10 and 20, inclusive.\n",
    "random.randint(10, 20)"
   ]
  },
  {
   "cell_type": "code",
   "execution_count": 5,
   "metadata": {},
   "outputs": [
    {
     "data": {
      "text/plain": [
       "[4, 9, 9, 9, 8, 7, 8, 4, 10, 4]"
      ]
     },
     "execution_count": 5,
     "metadata": {},
     "output_type": "execute_result"
    }
   ],
   "source": [
    "# Generate a list of 100 random integers between 1 and 10.\n",
    "L = [random.randint(1, 10) for i in range(100)]\n",
    "\n",
    "# Show the first ten items of L.\n",
    "L[:10]"
   ]
  },
  {
   "cell_type": "code",
   "execution_count": 6,
   "metadata": {},
   "outputs": [],
   "source": [
    "# List of car makes.\n",
    "makes = ['Toyota', 'Skoda', 'Ford', 'Renault']"
   ]
  },
  {
   "cell_type": "code",
   "execution_count": 7,
   "metadata": {},
   "outputs": [
    {
     "data": {
      "text/plain": [
       "'Ford'"
      ]
     },
     "execution_count": 7,
     "metadata": {},
     "output_type": "execute_result"
    }
   ],
   "source": [
    "# Select one at random.\n",
    "random.choice(makes)"
   ]
  },
  {
   "cell_type": "code",
   "execution_count": 8,
   "metadata": {},
   "outputs": [
    {
     "data": {
      "text/plain": [
       "['Ford',\n",
       " 'Toyota',\n",
       " 'Renault',\n",
       " 'Ford',\n",
       " 'Ford',\n",
       " 'Toyota',\n",
       " 'Renault',\n",
       " 'Toyota',\n",
       " 'Toyota',\n",
       " 'Ford']"
      ]
     },
     "execution_count": 8,
     "metadata": {},
     "output_type": "execute_result"
    }
   ],
   "source": [
    "# Select ten random makes (with replacement).\n",
    "random.choices(makes, k=10)"
   ]
  },
  {
   "cell_type": "code",
   "execution_count": 9,
   "metadata": {},
   "outputs": [],
   "source": [
    "# First eight letters.\n",
    "letters = ['A', 'B', 'C', 'D', 'E', 'F', 'G', 'H']"
   ]
  },
  {
   "cell_type": "code",
   "execution_count": 10,
   "metadata": {},
   "outputs": [],
   "source": [
    "# Shuffle them.\n",
    "random.shuffle(letters)"
   ]
  },
  {
   "cell_type": "code",
   "execution_count": 11,
   "metadata": {},
   "outputs": [
    {
     "data": {
      "text/plain": [
       "['E', 'F', 'H', 'B', 'A', 'G', 'D', 'C']"
      ]
     },
     "execution_count": 11,
     "metadata": {},
     "output_type": "execute_result"
    }
   ],
   "source": [
    "# Look at letters after shuffle.\n",
    "letters"
   ]
  },
  {
   "cell_type": "code",
   "execution_count": 12,
   "metadata": {},
   "outputs": [
    {
     "data": {
      "text/plain": [
       "['F', 'E', 'H', 'C', 'A']"
      ]
     },
     "execution_count": 12,
     "metadata": {},
     "output_type": "execute_result"
    }
   ],
   "source": [
    "# Random selection without replacement.\n",
    "random.sample(letters, k=5)"
   ]
  },
  {
   "cell_type": "code",
   "execution_count": 13,
   "metadata": {},
   "outputs": [
    {
     "data": {
      "text/plain": [
       "0.19731345975629178"
      ]
     },
     "execution_count": 13,
     "metadata": {},
     "output_type": "execute_result"
    }
   ],
   "source": [
    "# Random real (floating-point) number. [0.0, 1.0)\n",
    "random.random()"
   ]
  },
  {
   "cell_type": "code",
   "execution_count": 14,
   "metadata": {},
   "outputs": [
    {
     "data": {
      "text/plain": [
       "34.616210388123925"
      ]
     },
     "execution_count": 14,
     "metadata": {},
     "output_type": "execute_result"
    }
   ],
   "source": [
    "# Pick a random floating point number between 0.0 and 100.0. [0.0, 100.0]\n",
    "random.uniform(0.0, 100.0)"
   ]
  },
  {
   "cell_type": "markdown",
   "metadata": {},
   "source": [
    "## numpy\n",
    "\n",
    "[numpy API Reference: Random sampling](https://numpy.org/doc/stable/reference/random/index.html)\n",
    "\n",
    "https://numpy.org/doc/stable/reference/random/index.html\n",
    "\n",
    "***"
   ]
  },
  {
   "cell_type": "code",
   "execution_count": 15,
   "metadata": {},
   "outputs": [],
   "source": [
    "# Random Number Generator (RNG) for generating random numbers.\n",
    "rng = np.random.default_rng()"
   ]
  },
  {
   "cell_type": "code",
   "execution_count": 16,
   "metadata": {},
   "outputs": [
    {
     "data": {
      "text/plain": [
       "array([0.8451775 , 0.5363534 , 0.16156304, 0.40817312, 0.66034468,\n",
       "       0.43301274, 0.0495659 , 0.19746382, 0.97502003, 0.49564339])"
      ]
     },
     "execution_count": 16,
     "metadata": {},
     "output_type": "execute_result"
    }
   ],
   "source": [
    "# Generate random floating point numbers in the interval 0.0 (included) to 1.0 (excluded).\n",
    "rng.random(10)"
   ]
  },
  {
   "cell_type": "markdown",
   "metadata": {},
   "source": [
    "Generate numbers on a standard Normal distribution.\n",
    "\n",
    "The mean is 0.0 and standard deviation is 1.0.\n",
    "\n",
    "The numbers generated should be, on average, centred on 0.0.\n",
    "\n",
    "More than 99% of the numbers generated should be in the interval (-3.0, 3.0)."
   ]
  },
  {
   "cell_type": "code",
   "execution_count": 17,
   "metadata": {},
   "outputs": [
    {
     "data": {
      "text/plain": [
       "array([ 0.58149734, -0.45700287, -0.31489008,  1.50255127, -0.07218296,\n",
       "       -0.58761353, -0.70057419, -1.94807008, -1.48738231,  0.94834338,\n",
       "        0.58705978,  0.20299998,  0.12637454,  0.03585814,  0.24676554,\n",
       "        0.16480114,  0.19546347, -0.60492551, -1.80297157, -0.6341795 ,\n",
       "       -0.18996985,  0.44640752,  0.70950228, -0.27520141,  1.08854526,\n",
       "       -1.01928171,  1.94801081,  0.36074722, -0.86404134,  1.68500184,\n",
       "        1.2029677 ,  0.33990021,  1.80484432,  0.79155778, -2.30512077,\n",
       "       -0.26549385,  0.47472336, -0.54710302, -0.10043735,  1.58009573,\n",
       "        0.73542575, -0.04327344,  0.04032143, -1.73059712,  0.04629443,\n",
       "       -0.49997527,  1.49500069,  0.70483164, -0.37370749, -0.1314979 ,\n",
       "       -0.16213878,  0.07047068,  1.16141782, -0.59218608,  1.14748003,\n",
       "        1.22161658,  0.83099912, -0.82239149, -0.23643914,  1.60884662,\n",
       "       -0.62739733, -0.55533636,  0.53548831, -1.09294939,  1.07627593,\n",
       "        0.3629588 , -0.87779634,  0.13433254, -0.50027421, -0.7648991 ,\n",
       "       -0.3037478 ,  2.17275358, -0.30482179, -0.26624049,  0.33712044,\n",
       "        0.4968087 , -2.44806127, -0.13400416,  0.17612818, -0.82604593,\n",
       "       -2.4198843 ,  0.36732771,  0.46049995,  0.06837948, -1.51207026,\n",
       "       -0.88002733,  0.61254885,  0.5182451 ,  0.44042238,  0.49020765,\n",
       "        1.28625807,  1.40766052,  0.6788864 ,  0.01461279,  0.72717802,\n",
       "        0.26802416,  0.44701857, -1.42817125, -0.14701105, -0.51218076])"
      ]
     },
     "execution_count": 17,
     "metadata": {},
     "output_type": "execute_result"
    }
   ],
   "source": [
    "# Generate numbers on a standard Normal distribution.\n",
    "rng.standard_normal(100)"
   ]
  },
  {
   "cell_type": "code",
   "execution_count": 18,
   "metadata": {},
   "outputs": [
    {
     "data": {
      "text/plain": [
       "array([15, 13, 16, 14, 18, 16, 15, 10, 11, 17, 14, 14, 17, 10, 11])"
      ]
     },
     "execution_count": 18,
     "metadata": {},
     "output_type": "execute_result"
    }
   ],
   "source": [
    "# Generated 15 integers between 10 (included) and 20 (excluded).\n",
    "rng.integers(low=10, high=20, size=15) "
   ]
  },
  {
   "cell_type": "markdown",
   "metadata": {},
   "source": [
    "## Plotting Bar Charts\n",
    "\n",
    "***"
   ]
  },
  {
   "cell_type": "code",
   "execution_count": 19,
   "metadata": {},
   "outputs": [],
   "source": [
    "# The lowest integer allowed.\n",
    "low = 1\n",
    "\n",
    "# The highest integer allowed.\n",
    "high = 10\n",
    "\n",
    "# The number of integers to generate.\n",
    "size = 100000"
   ]
  },
  {
   "cell_type": "code",
   "execution_count": 20,
   "metadata": {},
   "outputs": [],
   "source": [
    "# Generate a list of random integers.\n",
    "rand_ints = rng.integers(low=low, high=high + 1, size=size)\n",
    "\n",
    "# Show.\n",
    "# rand_ints"
   ]
  },
  {
   "cell_type": "code",
   "execution_count": 21,
   "metadata": {},
   "outputs": [
    {
     "data": {
      "text/plain": [
       "array([ 1,  2,  3,  4,  5,  6,  7,  8,  9, 10])"
      ]
     },
     "execution_count": 21,
     "metadata": {},
     "output_type": "execute_result"
    }
   ],
   "source": [
    "# The unique elements of rand_ints.\n",
    "np.unique(rand_ints)"
   ]
  },
  {
   "cell_type": "code",
   "execution_count": 22,
   "metadata": {},
   "outputs": [
    {
     "data": {
      "text/plain": [
       "(array([ 1,  2,  3,  4,  5,  6,  7,  8,  9, 10]),\n",
       " array([10029,  9946,  9936, 10022,  9889, 10090, 10037,  9960, 10064,\n",
       "        10027]))"
      ]
     },
     "execution_count": 22,
     "metadata": {},
     "output_type": "execute_result"
    }
   ],
   "source": [
    "# The unique elements of rand_ints, with counts.\n",
    "x, counts = np.unique(rand_ints, return_counts=True)\n",
    "\n",
    "# Show the x and counts arrays.\n",
    "x, counts"
   ]
  },
  {
   "cell_type": "code",
   "execution_count": 23,
   "metadata": {},
   "outputs": [
    {
     "data": {
      "image/png": "[encoded data removed]",
      "text/plain": [
       "<Figure size 1200x300 with 1 Axes>"
      ]
     },
     "metadata": {},
     "output_type": "display_data"
    }
   ],
   "source": [
    "# Create an empty plot.\n",
    "fig, ax = plt.subplots(figsize=(12, 3))\n",
    "\n",
    "# Plot a bar chart.\n",
    "ax.bar(x, counts);"
   ]
  },
  {
   "cell_type": "markdown",
   "metadata": {},
   "source": [
    "## Plotting Histograms\n",
    "\n",
    "***"
   ]
  },
  {
   "cell_type": "code",
   "execution_count": 24,
   "metadata": {},
   "outputs": [],
   "source": [
    "# The number of floating points numbers to generate.\n",
    "size = 100000"
   ]
  },
  {
   "cell_type": "code",
   "execution_count": 25,
   "metadata": {},
   "outputs": [],
   "source": [
    "# Generate random floating point numbers in the interval 0.0 (included) to 1.0 (excluded).\n",
    "rand_floats = rng.random(size)\n",
    "\n",
    "# Show rand_floats.\n",
    "# rand_floats"
   ]
  },
  {
   "cell_type": "code",
   "execution_count": 26,
   "metadata": {},
   "outputs": [
    {
     "data": {
      "image/png": "[encoded data removed]",
      "text/plain": [
       "<Figure size 1200x300 with 1 Axes>"
      ]
     },
     "metadata": {},
     "output_type": "display_data"
    }
   ],
   "source": [
    "# Create an empty plot.\n",
    "fig, ax = plt.subplots(figsize=(12, 3))\n",
    "\n",
    "# Plot a histogram.\n",
    "ax.hist(rand_floats, bins=100);"
   ]
  },
  {
   "cell_type": "markdown",
   "metadata": {},
   "source": [
    "## Normal Looking Data\n",
    "\n",
    "***"
   ]
  },
  {
   "cell_type": "code",
   "execution_count": 27,
   "metadata": {},
   "outputs": [],
   "source": [
    "# Generate numbers on a standard Normal distribution.\n",
    "rand_normal = rng.standard_normal(100000)"
   ]
  },
  {
   "cell_type": "code",
   "execution_count": 28,
   "metadata": {},
   "outputs": [
    {
     "data": {
      "image/png": "[encoded data removed]",
      "text/plain": [
       "<Figure size 1200x300 with 1 Axes>"
      ]
     },
     "metadata": {},
     "output_type": "display_data"
    }
   ],
   "source": [
    "# Create an empty plot.\n",
    "fig, ax = plt.subplots(figsize=(12, 3))\n",
    "\n",
    "# Plot a histogram.\n",
    "ax.hist(rand_normal, bins=100, density=True);"
   ]
  },
  {
   "cell_type": "markdown",
   "metadata": {},
   "source": [
    "## Two Plots in One\n",
    "\n",
    "***"
   ]
  },
  {
   "cell_type": "markdown",
   "metadata": {},
   "source": [
    "**Normal PDF**\n",
    "\n",
    "$$ f(x) = \\frac{1}{\\sigma \\sqrt{2 \\pi}} e^{-\\frac{1}{2}\\big( \\frac{x - \\mu}{\\sigma} \\big)^2} $$\n",
    "\n"
   ]
  },
  {
   "cell_type": "markdown",
   "metadata": {},
   "source": [
    "**Standard Normal PDF**\n",
    "\n",
    "$$ f(x) = \\frac{1}{\\sqrt{2 \\pi}} e^{-\\frac{x^2}{2}} $$\n",
    "\n"
   ]
  },
  {
   "cell_type": "code",
   "execution_count": 29,
   "metadata": {},
   "outputs": [],
   "source": [
    "# x should be a numpy array.\n",
    "def f(x):\n",
    "  A = 1.0 / np.sqrt(2.0 * np.pi)\n",
    "  B = np.exp(-(x**2) / 2.0)\n",
    "  return A * B"
   ]
  },
  {
   "cell_type": "code",
   "execution_count": 30,
   "metadata": {},
   "outputs": [
    {
     "data": {
      "text/plain": [
       "0.3989422804014327"
      ]
     },
     "execution_count": 30,
     "metadata": {},
     "output_type": "execute_result"
    }
   ],
   "source": [
    "# Test value around 0.0.\n",
    "f(0.0)"
   ]
  },
  {
   "cell_type": "code",
   "execution_count": 31,
   "metadata": {},
   "outputs": [
    {
     "data": {
      "text/plain": [
       "0.0044318484119380075"
      ]
     },
     "execution_count": 31,
     "metadata": {},
     "output_type": "execute_result"
    }
   ],
   "source": [
    "# Test value around 3.0.\n",
    "f(3.0)"
   ]
  },
  {
   "cell_type": "code",
   "execution_count": 32,
   "metadata": {},
   "outputs": [
    {
     "data": {
      "image/png": "[encoded data removed]",
      "text/plain": [
       "<Figure size 1200x400 with 1 Axes>"
      ]
     },
     "metadata": {},
     "output_type": "display_data"
    }
   ],
   "source": [
    "# Range of x values for plotting.\n",
    "x = np.linspace(-5.0, 5.0, 1001)\n",
    "\n",
    "# Create empty plot.\n",
    "fig, ax = plt.subplots(figsize=(12, 4))\n",
    "\n",
    "# Plot f(x).\n",
    "ax.plot(x, f(x));"
   ]
  },
  {
   "cell_type": "code",
   "execution_count": 33,
   "metadata": {},
   "outputs": [
    {
     "data": {
      "image/png": "[encoded data removed]",
      "text/plain": [
       "<Figure size 1200x400 with 1 Axes>"
      ]
     },
     "metadata": {},
     "output_type": "display_data"
    }
   ],
   "source": [
    "# Range of x values for plotting.\n",
    "x = np.linspace(-5.0, 5.0, 1001)\n",
    "\n",
    "# Create empty plot.\n",
    "fig, ax = plt.subplots(figsize=(12, 4))\n",
    "\n",
    "# Plot histogram of randomly generated normal values from above.\n",
    "ax.hist(rand_normal, bins=100, density=True)\n",
    "\n",
    "# Plot f(x).\n",
    "ax.plot(x, f(x));"
   ]
  },
  {
   "cell_type": "markdown",
   "metadata": {},
   "source": [
    "***\n",
    "\n",
    "#### End"
   ]
  }
 ],
 "metadata": {
  "kernelspec": {
   "display_name": "base",
   "language": "python",
   "name": "python3"
  },
  "language_info": {
   "codemirror_mode": {
    "name": "ipython",
    "version": 3
   },
   "file_extension": ".py",
   "mimetype": "text/x-python",
   "name": "python",
   "nbconvert_exporter": "python",
   "pygments_lexer": "ipython3",
   "version": "3.12.1"
  },
  "orig_nbformat": 4
 },
 "nbformat": 4,
 "nbformat_minor": 2
}
