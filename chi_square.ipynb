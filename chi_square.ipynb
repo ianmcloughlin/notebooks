{
 "cells": [
  {
   "cell_type": "markdown",
   "metadata": {},
   "source": [
    "# Chi-Square Tests\n",
    "\n",
    "***"
   ]
  },
  {
   "cell_type": "code",
   "execution_count": 1,
   "metadata": {},
   "outputs": [],
   "source": [
    "# Data frames.\n",
    "import pandas as pd\n",
    "\n",
    "# Shuffles.\n",
    "import random\n",
    "\n",
    "# Statistics.\n",
    "import scipy.stats as ss"
   ]
  },
  {
   "cell_type": "markdown",
   "metadata": {},
   "source": [
    "## Laerd Statistics Chi-Square Test for Independence\n",
    "\n",
    "https://statistics.laerd.com/spss-tutorials/chi-square-test-for-association-using-spss-statistics.php\n",
    "\n",
    "***"
   ]
  },
  {
   "cell_type": "code",
   "execution_count": 2,
   "metadata": {},
   "outputs": [
    {
     "data": {
      "text/plain": [
       "[['Male', 'Books'],\n",
       " ['Male', 'Books'],\n",
       " ['Male', 'Books'],\n",
       " ['Male', 'Books'],\n",
       " ['Male', 'Books'],\n",
       " ['Male', 'Books'],\n",
       " ['Male', 'Books'],\n",
       " ['Male', 'Books'],\n",
       " ['Male', 'Books'],\n",
       " ['Male', 'Books'],\n",
       " ['Male', 'Books'],\n",
       " ['Male', 'Books'],\n",
       " ['Male', 'Books'],\n",
       " ['Male', 'Books'],\n",
       " ['Male', 'Books'],\n",
       " ['Male', 'Books']]"
      ]
     },
     "execution_count": 2,
     "metadata": {},
     "output_type": "execute_result"
    }
   ],
   "source": [
    "# Sixteen Males who preferred Books.\n",
    "male_books = [['Male', 'Books']] * 16\n",
    "\n",
    "# Show.\n",
    "male_books"
   ]
  },
  {
   "cell_type": "code",
   "execution_count": 3,
   "metadata": {},
   "outputs": [
    {
     "data": {
      "text/plain": [
       "[['Female', 'Books'],\n",
       " ['Female', 'Books'],\n",
       " ['Female', 'Books'],\n",
       " ['Female', 'Books'],\n",
       " ['Female', 'Books'],\n",
       " ['Female', 'Books'],\n",
       " ['Female', 'Books'],\n",
       " ['Female', 'Books'],\n",
       " ['Female', 'Books'],\n",
       " ['Female', 'Books'],\n",
       " ['Female', 'Books'],\n",
       " ['Female', 'Books'],\n",
       " ['Female', 'Books']]"
      ]
     },
     "execution_count": 3,
     "metadata": {},
     "output_type": "execute_result"
    }
   ],
   "source": [
    "# Sixteen Females who preferred Books.\n",
    "female_books = [['Female', 'Books']] * 13\n",
    "\n",
    "# Show.\n",
    "female_books"
   ]
  },
  {
   "cell_type": "code",
   "execution_count": 4,
   "metadata": {},
   "outputs": [
    {
     "data": {
      "text/plain": [
       "[['Male', 'Online'],\n",
       " ['Male', 'Online'],\n",
       " ['Male', 'Online'],\n",
       " ['Male', 'Online'],\n",
       " ['Male', 'Online'],\n",
       " ['Male', 'Online'],\n",
       " ['Male', 'Online'],\n",
       " ['Male', 'Online'],\n",
       " ['Male', 'Online'],\n",
       " ['Male', 'Online'],\n",
       " ['Male', 'Online'],\n",
       " ['Male', 'Online'],\n",
       " ['Male', 'Online'],\n",
       " ['Male', 'Online'],\n",
       " ['Male', 'Online'],\n",
       " ['Male', 'Online'],\n",
       " ['Male', 'Online'],\n",
       " ['Male', 'Online'],\n",
       " ['Male', 'Online'],\n",
       " ['Male', 'Online'],\n",
       " ['Male', 'Online'],\n",
       " ['Male', 'Online'],\n",
       " ['Male', 'Online'],\n",
       " ['Male', 'Online']]"
      ]
     },
     "execution_count": 4,
     "metadata": {},
     "output_type": "execute_result"
    }
   ],
   "source": [
    "# Twenty-four Males who preferred Online.\n",
    "male_online = [['Male', 'Online']] * 24\n",
    "\n",
    "# Show.\n",
    "male_online"
   ]
  },
  {
   "cell_type": "code",
   "execution_count": 5,
   "metadata": {},
   "outputs": [
    {
     "data": {
      "text/plain": [
       "[['Female', 'Online'],\n",
       " ['Female', 'Online'],\n",
       " ['Female', 'Online'],\n",
       " ['Female', 'Online'],\n",
       " ['Female', 'Online'],\n",
       " ['Female', 'Online'],\n",
       " ['Female', 'Online'],\n",
       " ['Female', 'Online'],\n",
       " ['Female', 'Online'],\n",
       " ['Female', 'Online'],\n",
       " ['Female', 'Online'],\n",
       " ['Female', 'Online'],\n",
       " ['Female', 'Online'],\n",
       " ['Female', 'Online'],\n",
       " ['Female', 'Online'],\n",
       " ['Female', 'Online'],\n",
       " ['Female', 'Online'],\n",
       " ['Female', 'Online'],\n",
       " ['Female', 'Online'],\n",
       " ['Female', 'Online'],\n",
       " ['Female', 'Online'],\n",
       " ['Female', 'Online'],\n",
       " ['Female', 'Online'],\n",
       " ['Female', 'Online'],\n",
       " ['Female', 'Online'],\n",
       " ['Female', 'Online'],\n",
       " ['Female', 'Online']]"
      ]
     },
     "execution_count": 5,
     "metadata": {},
     "output_type": "execute_result"
    }
   ],
   "source": [
    "# Twenty-seven Females who preferred Online.\n",
    "female_online = [['Female', 'Online']] * 27\n",
    "\n",
    "# Show.\n",
    "female_online"
   ]
  },
  {
   "cell_type": "code",
   "execution_count": 6,
   "metadata": {},
   "outputs": [
    {
     "data": {
      "text/plain": [
       "[['Male', 'Books'],\n",
       " ['Male', 'Books'],\n",
       " ['Male', 'Books'],\n",
       " ['Male', 'Books'],\n",
       " ['Male', 'Books'],\n",
       " ['Male', 'Books'],\n",
       " ['Male', 'Books'],\n",
       " ['Male', 'Books'],\n",
       " ['Male', 'Books'],\n",
       " ['Male', 'Books'],\n",
       " ['Male', 'Books'],\n",
       " ['Male', 'Books'],\n",
       " ['Male', 'Books'],\n",
       " ['Male', 'Books'],\n",
       " ['Male', 'Books'],\n",
       " ['Male', 'Books'],\n",
       " ['Male', 'Online'],\n",
       " ['Male', 'Online'],\n",
       " ['Male', 'Online'],\n",
       " ['Male', 'Online'],\n",
       " ['Male', 'Online'],\n",
       " ['Male', 'Online'],\n",
       " ['Male', 'Online'],\n",
       " ['Male', 'Online'],\n",
       " ['Male', 'Online'],\n",
       " ['Male', 'Online'],\n",
       " ['Male', 'Online'],\n",
       " ['Male', 'Online'],\n",
       " ['Male', 'Online'],\n",
       " ['Male', 'Online'],\n",
       " ['Male', 'Online'],\n",
       " ['Male', 'Online'],\n",
       " ['Male', 'Online'],\n",
       " ['Male', 'Online'],\n",
       " ['Male', 'Online'],\n",
       " ['Male', 'Online'],\n",
       " ['Male', 'Online'],\n",
       " ['Male', 'Online'],\n",
       " ['Male', 'Online'],\n",
       " ['Male', 'Online'],\n",
       " ['Female', 'Books'],\n",
       " ['Female', 'Books'],\n",
       " ['Female', 'Books'],\n",
       " ['Female', 'Books'],\n",
       " ['Female', 'Books'],\n",
       " ['Female', 'Books'],\n",
       " ['Female', 'Books'],\n",
       " ['Female', 'Books'],\n",
       " ['Female', 'Books'],\n",
       " ['Female', 'Books'],\n",
       " ['Female', 'Books'],\n",
       " ['Female', 'Books'],\n",
       " ['Female', 'Books'],\n",
       " ['Female', 'Online'],\n",
       " ['Female', 'Online'],\n",
       " ['Female', 'Online'],\n",
       " ['Female', 'Online'],\n",
       " ['Female', 'Online'],\n",
       " ['Female', 'Online'],\n",
       " ['Female', 'Online'],\n",
       " ['Female', 'Online'],\n",
       " ['Female', 'Online'],\n",
       " ['Female', 'Online'],\n",
       " ['Female', 'Online'],\n",
       " ['Female', 'Online'],\n",
       " ['Female', 'Online'],\n",
       " ['Female', 'Online'],\n",
       " ['Female', 'Online'],\n",
       " ['Female', 'Online'],\n",
       " ['Female', 'Online'],\n",
       " ['Female', 'Online'],\n",
       " ['Female', 'Online'],\n",
       " ['Female', 'Online'],\n",
       " ['Female', 'Online'],\n",
       " ['Female', 'Online'],\n",
       " ['Female', 'Online'],\n",
       " ['Female', 'Online'],\n",
       " ['Female', 'Online'],\n",
       " ['Female', 'Online'],\n",
       " ['Female', 'Online']]"
      ]
     },
     "execution_count": 6,
     "metadata": {},
     "output_type": "execute_result"
    }
   ],
   "source": [
    "# Raw data, merge the four lists.\n",
    "raw_data = male_books + male_online + female_books + female_online\n",
    "\n",
    "# Show.\n",
    "raw_data"
   ]
  },
  {
   "cell_type": "code",
   "execution_count": 7,
   "metadata": {},
   "outputs": [
    {
     "data": {
      "text/plain": [
       "[['Male', 'Books'],\n",
       " ['Male', 'Online'],\n",
       " ['Male', 'Online'],\n",
       " ['Female', 'Online'],\n",
       " ['Male', 'Books'],\n",
       " ['Male', 'Online'],\n",
       " ['Male', 'Books'],\n",
       " ['Male', 'Online'],\n",
       " ['Female', 'Books'],\n",
       " ['Male', 'Books'],\n",
       " ['Female', 'Online'],\n",
       " ['Male', 'Online'],\n",
       " ['Male', 'Online'],\n",
       " ['Male', 'Books'],\n",
       " ['Male', 'Online'],\n",
       " ['Female', 'Online'],\n",
       " ['Female', 'Books'],\n",
       " ['Female', 'Books'],\n",
       " ['Female', 'Online'],\n",
       " ['Female', 'Online'],\n",
       " ['Female', 'Online'],\n",
       " ['Male', 'Online'],\n",
       " ['Male', 'Online'],\n",
       " ['Female', 'Books'],\n",
       " ['Male', 'Books'],\n",
       " ['Female', 'Books'],\n",
       " ['Male', 'Online'],\n",
       " ['Female', 'Online'],\n",
       " ['Male', 'Online'],\n",
       " ['Female', 'Online'],\n",
       " ['Female', 'Online'],\n",
       " ['Female', 'Online'],\n",
       " ['Male', 'Online'],\n",
       " ['Male', 'Online'],\n",
       " ['Female', 'Books'],\n",
       " ['Male', 'Online'],\n",
       " ['Male', 'Books'],\n",
       " ['Female', 'Online'],\n",
       " ['Male', 'Online'],\n",
       " ['Female', 'Books'],\n",
       " ['Female', 'Online'],\n",
       " ['Male', 'Books'],\n",
       " ['Male', 'Online'],\n",
       " ['Female', 'Online'],\n",
       " ['Female', 'Online'],\n",
       " ['Male', 'Online'],\n",
       " ['Female', 'Online'],\n",
       " ['Male', 'Online'],\n",
       " ['Female', 'Books'],\n",
       " ['Male', 'Books'],\n",
       " ['Female', 'Books'],\n",
       " ['Male', 'Online'],\n",
       " ['Female', 'Online'],\n",
       " ['Male', 'Online'],\n",
       " ['Female', 'Online'],\n",
       " ['Female', 'Online'],\n",
       " ['Male', 'Books'],\n",
       " ['Male', 'Online'],\n",
       " ['Male', 'Online'],\n",
       " ['Female', 'Online'],\n",
       " ['Female', 'Books'],\n",
       " ['Male', 'Books'],\n",
       " ['Female', 'Books'],\n",
       " ['Male', 'Online'],\n",
       " ['Male', 'Books'],\n",
       " ['Male', 'Online'],\n",
       " ['Female', 'Online'],\n",
       " ['Female', 'Books'],\n",
       " ['Female', 'Online'],\n",
       " ['Male', 'Books'],\n",
       " ['Male', 'Books'],\n",
       " ['Female', 'Online'],\n",
       " ['Female', 'Online'],\n",
       " ['Female', 'Online'],\n",
       " ['Male', 'Books'],\n",
       " ['Male', 'Books'],\n",
       " ['Female', 'Online'],\n",
       " ['Female', 'Online'],\n",
       " ['Female', 'Online'],\n",
       " ['Female', 'Books']]"
      ]
     },
     "execution_count": 7,
     "metadata": {},
     "output_type": "execute_result"
    }
   ],
   "source": [
    "# Shuffle the data.\n",
    "random.shuffle(raw_data)\n",
    "\n",
    "# Show.\n",
    "raw_data"
   ]
  },
  {
   "cell_type": "code",
   "execution_count": 8,
   "metadata": {},
   "outputs": [
    {
     "data": {
      "text/plain": [
       "(('Male',\n",
       "  'Male',\n",
       "  'Male',\n",
       "  'Female',\n",
       "  'Male',\n",
       "  'Male',\n",
       "  'Male',\n",
       "  'Male',\n",
       "  'Female',\n",
       "  'Male',\n",
       "  'Female',\n",
       "  'Male',\n",
       "  'Male',\n",
       "  'Male',\n",
       "  'Male',\n",
       "  'Female',\n",
       "  'Female',\n",
       "  'Female',\n",
       "  'Female',\n",
       "  'Female',\n",
       "  'Female',\n",
       "  'Male',\n",
       "  'Male',\n",
       "  'Female',\n",
       "  'Male',\n",
       "  'Female',\n",
       "  'Male',\n",
       "  'Female',\n",
       "  'Male',\n",
       "  'Female',\n",
       "  'Female',\n",
       "  'Female',\n",
       "  'Male',\n",
       "  'Male',\n",
       "  'Female',\n",
       "  'Male',\n",
       "  'Male',\n",
       "  'Female',\n",
       "  'Male',\n",
       "  'Female',\n",
       "  'Female',\n",
       "  'Male',\n",
       "  'Male',\n",
       "  'Female',\n",
       "  'Female',\n",
       "  'Male',\n",
       "  'Female',\n",
       "  'Male',\n",
       "  'Female',\n",
       "  'Male',\n",
       "  'Female',\n",
       "  'Male',\n",
       "  'Female',\n",
       "  'Male',\n",
       "  'Female',\n",
       "  'Female',\n",
       "  'Male',\n",
       "  'Male',\n",
       "  'Male',\n",
       "  'Female',\n",
       "  'Female',\n",
       "  'Male',\n",
       "  'Female',\n",
       "  'Male',\n",
       "  'Male',\n",
       "  'Male',\n",
       "  'Female',\n",
       "  'Female',\n",
       "  'Female',\n",
       "  'Male',\n",
       "  'Male',\n",
       "  'Female',\n",
       "  'Female',\n",
       "  'Female',\n",
       "  'Male',\n",
       "  'Male',\n",
       "  'Female',\n",
       "  'Female',\n",
       "  'Female',\n",
       "  'Female'),\n",
       " ('Books',\n",
       "  'Online',\n",
       "  'Online',\n",
       "  'Online',\n",
       "  'Books',\n",
       "  'Online',\n",
       "  'Books',\n",
       "  'Online',\n",
       "  'Books',\n",
       "  'Books',\n",
       "  'Online',\n",
       "  'Online',\n",
       "  'Online',\n",
       "  'Books',\n",
       "  'Online',\n",
       "  'Online',\n",
       "  'Books',\n",
       "  'Books',\n",
       "  'Online',\n",
       "  'Online',\n",
       "  'Online',\n",
       "  'Online',\n",
       "  'Online',\n",
       "  'Books',\n",
       "  'Books',\n",
       "  'Books',\n",
       "  'Online',\n",
       "  'Online',\n",
       "  'Online',\n",
       "  'Online',\n",
       "  'Online',\n",
       "  'Online',\n",
       "  'Online',\n",
       "  'Online',\n",
       "  'Books',\n",
       "  'Online',\n",
       "  'Books',\n",
       "  'Online',\n",
       "  'Online',\n",
       "  'Books',\n",
       "  'Online',\n",
       "  'Books',\n",
       "  'Online',\n",
       "  'Online',\n",
       "  'Online',\n",
       "  'Online',\n",
       "  'Online',\n",
       "  'Online',\n",
       "  'Books',\n",
       "  'Books',\n",
       "  'Books',\n",
       "  'Online',\n",
       "  'Online',\n",
       "  'Online',\n",
       "  'Online',\n",
       "  'Online',\n",
       "  'Books',\n",
       "  'Online',\n",
       "  'Online',\n",
       "  'Online',\n",
       "  'Books',\n",
       "  'Books',\n",
       "  'Books',\n",
       "  'Online',\n",
       "  'Books',\n",
       "  'Online',\n",
       "  'Online',\n",
       "  'Books',\n",
       "  'Online',\n",
       "  'Books',\n",
       "  'Books',\n",
       "  'Online',\n",
       "  'Online',\n",
       "  'Online',\n",
       "  'Books',\n",
       "  'Books',\n",
       "  'Online',\n",
       "  'Online',\n",
       "  'Online',\n",
       "  'Books'))"
      ]
     },
     "execution_count": 8,
     "metadata": {},
     "output_type": "execute_result"
    }
   ],
   "source": [
    "# Zip the list - make the rows columns and the columns rows.\n",
    "# Interchanges the outer and inner lists.\n",
    "gender, medium = list(zip(*raw_data))\n",
    "\n",
    "# Show.\n",
    "gender, medium"
   ]
  },
  {
   "cell_type": "code",
   "execution_count": 9,
   "metadata": {},
   "outputs": [
    {
     "data": {
      "text/html": [
       "<div>\n",
       "<style scoped>\n",
       "    .dataframe tbody tr th:only-of-type {\n",
       "        vertical-align: middle;\n",
       "    }\n",
       "\n",
       "    .dataframe tbody tr th {\n",
       "        vertical-align: top;\n",
       "    }\n",
       "\n",
       "    .dataframe thead th {\n",
       "        text-align: right;\n",
       "    }\n",
       "</style>\n",
       "<table border=\"1\" class=\"dataframe\">\n",
       "  <thead>\n",
       "    <tr style=\"text-align: right;\">\n",
       "      <th></th>\n",
       "      <th>gender</th>\n",
       "      <th>medium</th>\n",
       "    </tr>\n",
       "  </thead>\n",
       "  <tbody>\n",
       "    <tr>\n",
       "      <th>0</th>\n",
       "      <td>Male</td>\n",
       "      <td>Books</td>\n",
       "    </tr>\n",
       "    <tr>\n",
       "      <th>1</th>\n",
       "      <td>Male</td>\n",
       "      <td>Online</td>\n",
       "    </tr>\n",
       "    <tr>\n",
       "      <th>2</th>\n",
       "      <td>Male</td>\n",
       "      <td>Online</td>\n",
       "    </tr>\n",
       "    <tr>\n",
       "      <th>3</th>\n",
       "      <td>Female</td>\n",
       "      <td>Online</td>\n",
       "    </tr>\n",
       "    <tr>\n",
       "      <th>4</th>\n",
       "      <td>Male</td>\n",
       "      <td>Books</td>\n",
       "    </tr>\n",
       "    <tr>\n",
       "      <th>...</th>\n",
       "      <td>...</td>\n",
       "      <td>...</td>\n",
       "    </tr>\n",
       "    <tr>\n",
       "      <th>75</th>\n",
       "      <td>Male</td>\n",
       "      <td>Books</td>\n",
       "    </tr>\n",
       "    <tr>\n",
       "      <th>76</th>\n",
       "      <td>Female</td>\n",
       "      <td>Online</td>\n",
       "    </tr>\n",
       "    <tr>\n",
       "      <th>77</th>\n",
       "      <td>Female</td>\n",
       "      <td>Online</td>\n",
       "    </tr>\n",
       "    <tr>\n",
       "      <th>78</th>\n",
       "      <td>Female</td>\n",
       "      <td>Online</td>\n",
       "    </tr>\n",
       "    <tr>\n",
       "      <th>79</th>\n",
       "      <td>Female</td>\n",
       "      <td>Books</td>\n",
       "    </tr>\n",
       "  </tbody>\n",
       "</table>\n",
       "<p>80 rows × 2 columns</p>\n",
       "</div>"
      ],
      "text/plain": [
       "    gender  medium\n",
       "0     Male   Books\n",
       "1     Male  Online\n",
       "2     Male  Online\n",
       "3   Female  Online\n",
       "4     Male   Books\n",
       "..     ...     ...\n",
       "75    Male   Books\n",
       "76  Female  Online\n",
       "77  Female  Online\n",
       "78  Female  Online\n",
       "79  Female   Books\n",
       "\n",
       "[80 rows x 2 columns]"
      ]
     },
     "execution_count": 9,
     "metadata": {},
     "output_type": "execute_result"
    }
   ],
   "source": [
    "# Create a data frame.\n",
    "df = pd.DataFrame({'gender': gender, 'medium': medium})\n",
    "\n",
    "# Show.\n",
    "df"
   ]
  },
  {
   "cell_type": "markdown",
   "metadata": {},
   "source": [
    "## Contingency Table\n",
    "\n",
    "***"
   ]
  },
  {
   "cell_type": "code",
   "execution_count": 10,
   "metadata": {},
   "outputs": [
    {
     "data": {
      "text/plain": [
       "CrosstabResult(elements=(array(['Female', 'Male'], dtype=object), array(['Books', 'Online'], dtype=object)), count=array([[13, 27],\n",
       "       [16, 24]]))"
      ]
     },
     "execution_count": 10,
     "metadata": {},
     "output_type": "execute_result"
    }
   ],
   "source": [
    "# Perform Crosstabs Contingency.\n",
    "cross = ss.contingency.crosstab(df['gender'], df['medium'])\n",
    "\n",
    "# Show.\n",
    "cross"
   ]
  },
  {
   "cell_type": "code",
   "execution_count": 11,
   "metadata": {},
   "outputs": [
    {
     "data": {
      "text/plain": [
       "(array(['Female', 'Male'], dtype=object),\n",
       " array(['Books', 'Online'], dtype=object))"
      ]
     },
     "execution_count": 11,
     "metadata": {},
     "output_type": "execute_result"
    }
   ],
   "source": [
    "# The first variable values, and the second.\n",
    "first, second = cross.elements\n",
    "\n",
    "# Show.\n",
    "first, second"
   ]
  },
  {
   "cell_type": "code",
   "execution_count": 12,
   "metadata": {},
   "outputs": [
    {
     "data": {
      "text/plain": [
       "array([[13, 27],\n",
       "       [16, 24]])"
      ]
     },
     "execution_count": 12,
     "metadata": {},
     "output_type": "execute_result"
    }
   ],
   "source": [
    "# The counts.\n",
    "cross.count"
   ]
  },
  {
   "cell_type": "code",
   "execution_count": 13,
   "metadata": {},
   "outputs": [
    {
     "data": {
      "text/html": [
       "<div>\n",
       "<style scoped>\n",
       "    .dataframe tbody tr th:only-of-type {\n",
       "        vertical-align: middle;\n",
       "    }\n",
       "\n",
       "    .dataframe tbody tr th {\n",
       "        vertical-align: top;\n",
       "    }\n",
       "\n",
       "    .dataframe thead th {\n",
       "        text-align: right;\n",
       "    }\n",
       "</style>\n",
       "<table border=\"1\" class=\"dataframe\">\n",
       "  <thead>\n",
       "    <tr style=\"text-align: right;\">\n",
       "      <th></th>\n",
       "      <th>gender</th>\n",
       "      <th>medium</th>\n",
       "    </tr>\n",
       "  </thead>\n",
       "  <tbody>\n",
       "    <tr>\n",
       "      <th>3</th>\n",
       "      <td>Female</td>\n",
       "      <td>Online</td>\n",
       "    </tr>\n",
       "    <tr>\n",
       "      <th>8</th>\n",
       "      <td>Female</td>\n",
       "      <td>Books</td>\n",
       "    </tr>\n",
       "    <tr>\n",
       "      <th>10</th>\n",
       "      <td>Female</td>\n",
       "      <td>Online</td>\n",
       "    </tr>\n",
       "    <tr>\n",
       "      <th>15</th>\n",
       "      <td>Female</td>\n",
       "      <td>Online</td>\n",
       "    </tr>\n",
       "    <tr>\n",
       "      <th>16</th>\n",
       "      <td>Female</td>\n",
       "      <td>Books</td>\n",
       "    </tr>\n",
       "    <tr>\n",
       "      <th>17</th>\n",
       "      <td>Female</td>\n",
       "      <td>Books</td>\n",
       "    </tr>\n",
       "    <tr>\n",
       "      <th>18</th>\n",
       "      <td>Female</td>\n",
       "      <td>Online</td>\n",
       "    </tr>\n",
       "    <tr>\n",
       "      <th>19</th>\n",
       "      <td>Female</td>\n",
       "      <td>Online</td>\n",
       "    </tr>\n",
       "    <tr>\n",
       "      <th>20</th>\n",
       "      <td>Female</td>\n",
       "      <td>Online</td>\n",
       "    </tr>\n",
       "    <tr>\n",
       "      <th>23</th>\n",
       "      <td>Female</td>\n",
       "      <td>Books</td>\n",
       "    </tr>\n",
       "    <tr>\n",
       "      <th>25</th>\n",
       "      <td>Female</td>\n",
       "      <td>Books</td>\n",
       "    </tr>\n",
       "    <tr>\n",
       "      <th>27</th>\n",
       "      <td>Female</td>\n",
       "      <td>Online</td>\n",
       "    </tr>\n",
       "    <tr>\n",
       "      <th>29</th>\n",
       "      <td>Female</td>\n",
       "      <td>Online</td>\n",
       "    </tr>\n",
       "    <tr>\n",
       "      <th>30</th>\n",
       "      <td>Female</td>\n",
       "      <td>Online</td>\n",
       "    </tr>\n",
       "    <tr>\n",
       "      <th>31</th>\n",
       "      <td>Female</td>\n",
       "      <td>Online</td>\n",
       "    </tr>\n",
       "    <tr>\n",
       "      <th>34</th>\n",
       "      <td>Female</td>\n",
       "      <td>Books</td>\n",
       "    </tr>\n",
       "    <tr>\n",
       "      <th>37</th>\n",
       "      <td>Female</td>\n",
       "      <td>Online</td>\n",
       "    </tr>\n",
       "    <tr>\n",
       "      <th>39</th>\n",
       "      <td>Female</td>\n",
       "      <td>Books</td>\n",
       "    </tr>\n",
       "    <tr>\n",
       "      <th>40</th>\n",
       "      <td>Female</td>\n",
       "      <td>Online</td>\n",
       "    </tr>\n",
       "    <tr>\n",
       "      <th>43</th>\n",
       "      <td>Female</td>\n",
       "      <td>Online</td>\n",
       "    </tr>\n",
       "    <tr>\n",
       "      <th>44</th>\n",
       "      <td>Female</td>\n",
       "      <td>Online</td>\n",
       "    </tr>\n",
       "    <tr>\n",
       "      <th>46</th>\n",
       "      <td>Female</td>\n",
       "      <td>Online</td>\n",
       "    </tr>\n",
       "    <tr>\n",
       "      <th>48</th>\n",
       "      <td>Female</td>\n",
       "      <td>Books</td>\n",
       "    </tr>\n",
       "    <tr>\n",
       "      <th>50</th>\n",
       "      <td>Female</td>\n",
       "      <td>Books</td>\n",
       "    </tr>\n",
       "    <tr>\n",
       "      <th>52</th>\n",
       "      <td>Female</td>\n",
       "      <td>Online</td>\n",
       "    </tr>\n",
       "    <tr>\n",
       "      <th>54</th>\n",
       "      <td>Female</td>\n",
       "      <td>Online</td>\n",
       "    </tr>\n",
       "    <tr>\n",
       "      <th>55</th>\n",
       "      <td>Female</td>\n",
       "      <td>Online</td>\n",
       "    </tr>\n",
       "    <tr>\n",
       "      <th>59</th>\n",
       "      <td>Female</td>\n",
       "      <td>Online</td>\n",
       "    </tr>\n",
       "    <tr>\n",
       "      <th>60</th>\n",
       "      <td>Female</td>\n",
       "      <td>Books</td>\n",
       "    </tr>\n",
       "    <tr>\n",
       "      <th>62</th>\n",
       "      <td>Female</td>\n",
       "      <td>Books</td>\n",
       "    </tr>\n",
       "    <tr>\n",
       "      <th>66</th>\n",
       "      <td>Female</td>\n",
       "      <td>Online</td>\n",
       "    </tr>\n",
       "    <tr>\n",
       "      <th>67</th>\n",
       "      <td>Female</td>\n",
       "      <td>Books</td>\n",
       "    </tr>\n",
       "    <tr>\n",
       "      <th>68</th>\n",
       "      <td>Female</td>\n",
       "      <td>Online</td>\n",
       "    </tr>\n",
       "    <tr>\n",
       "      <th>71</th>\n",
       "      <td>Female</td>\n",
       "      <td>Online</td>\n",
       "    </tr>\n",
       "    <tr>\n",
       "      <th>72</th>\n",
       "      <td>Female</td>\n",
       "      <td>Online</td>\n",
       "    </tr>\n",
       "    <tr>\n",
       "      <th>73</th>\n",
       "      <td>Female</td>\n",
       "      <td>Online</td>\n",
       "    </tr>\n",
       "    <tr>\n",
       "      <th>76</th>\n",
       "      <td>Female</td>\n",
       "      <td>Online</td>\n",
       "    </tr>\n",
       "    <tr>\n",
       "      <th>77</th>\n",
       "      <td>Female</td>\n",
       "      <td>Online</td>\n",
       "    </tr>\n",
       "    <tr>\n",
       "      <th>78</th>\n",
       "      <td>Female</td>\n",
       "      <td>Online</td>\n",
       "    </tr>\n",
       "    <tr>\n",
       "      <th>79</th>\n",
       "      <td>Female</td>\n",
       "      <td>Books</td>\n",
       "    </tr>\n",
       "  </tbody>\n",
       "</table>\n",
       "</div>"
      ],
      "text/plain": [
       "    gender  medium\n",
       "3   Female  Online\n",
       "8   Female   Books\n",
       "10  Female  Online\n",
       "15  Female  Online\n",
       "16  Female   Books\n",
       "17  Female   Books\n",
       "18  Female  Online\n",
       "19  Female  Online\n",
       "20  Female  Online\n",
       "23  Female   Books\n",
       "25  Female   Books\n",
       "27  Female  Online\n",
       "29  Female  Online\n",
       "30  Female  Online\n",
       "31  Female  Online\n",
       "34  Female   Books\n",
       "37  Female  Online\n",
       "39  Female   Books\n",
       "40  Female  Online\n",
       "43  Female  Online\n",
       "44  Female  Online\n",
       "46  Female  Online\n",
       "48  Female   Books\n",
       "50  Female   Books\n",
       "52  Female  Online\n",
       "54  Female  Online\n",
       "55  Female  Online\n",
       "59  Female  Online\n",
       "60  Female   Books\n",
       "62  Female   Books\n",
       "66  Female  Online\n",
       "67  Female   Books\n",
       "68  Female  Online\n",
       "71  Female  Online\n",
       "72  Female  Online\n",
       "73  Female  Online\n",
       "76  Female  Online\n",
       "77  Female  Online\n",
       "78  Female  Online\n",
       "79  Female   Books"
      ]
     },
     "execution_count": 13,
     "metadata": {},
     "output_type": "execute_result"
    }
   ],
   "source": [
    "# Find all rows in df with gender equal to the first value in first.\n",
    "df[df['gender'] == first[0]]"
   ]
  },
  {
   "cell_type": "code",
   "execution_count": 14,
   "metadata": {},
   "outputs": [
    {
     "data": {
      "text/html": [
       "<div>\n",
       "<style scoped>\n",
       "    .dataframe tbody tr th:only-of-type {\n",
       "        vertical-align: middle;\n",
       "    }\n",
       "\n",
       "    .dataframe tbody tr th {\n",
       "        vertical-align: top;\n",
       "    }\n",
       "\n",
       "    .dataframe thead th {\n",
       "        text-align: right;\n",
       "    }\n",
       "</style>\n",
       "<table border=\"1\" class=\"dataframe\">\n",
       "  <thead>\n",
       "    <tr style=\"text-align: right;\">\n",
       "      <th></th>\n",
       "      <th>gender</th>\n",
       "      <th>medium</th>\n",
       "    </tr>\n",
       "  </thead>\n",
       "  <tbody>\n",
       "    <tr>\n",
       "      <th>8</th>\n",
       "      <td>Female</td>\n",
       "      <td>Books</td>\n",
       "    </tr>\n",
       "    <tr>\n",
       "      <th>16</th>\n",
       "      <td>Female</td>\n",
       "      <td>Books</td>\n",
       "    </tr>\n",
       "    <tr>\n",
       "      <th>17</th>\n",
       "      <td>Female</td>\n",
       "      <td>Books</td>\n",
       "    </tr>\n",
       "    <tr>\n",
       "      <th>23</th>\n",
       "      <td>Female</td>\n",
       "      <td>Books</td>\n",
       "    </tr>\n",
       "    <tr>\n",
       "      <th>25</th>\n",
       "      <td>Female</td>\n",
       "      <td>Books</td>\n",
       "    </tr>\n",
       "    <tr>\n",
       "      <th>34</th>\n",
       "      <td>Female</td>\n",
       "      <td>Books</td>\n",
       "    </tr>\n",
       "    <tr>\n",
       "      <th>39</th>\n",
       "      <td>Female</td>\n",
       "      <td>Books</td>\n",
       "    </tr>\n",
       "    <tr>\n",
       "      <th>48</th>\n",
       "      <td>Female</td>\n",
       "      <td>Books</td>\n",
       "    </tr>\n",
       "    <tr>\n",
       "      <th>50</th>\n",
       "      <td>Female</td>\n",
       "      <td>Books</td>\n",
       "    </tr>\n",
       "    <tr>\n",
       "      <th>60</th>\n",
       "      <td>Female</td>\n",
       "      <td>Books</td>\n",
       "    </tr>\n",
       "    <tr>\n",
       "      <th>62</th>\n",
       "      <td>Female</td>\n",
       "      <td>Books</td>\n",
       "    </tr>\n",
       "    <tr>\n",
       "      <th>67</th>\n",
       "      <td>Female</td>\n",
       "      <td>Books</td>\n",
       "    </tr>\n",
       "    <tr>\n",
       "      <th>79</th>\n",
       "      <td>Female</td>\n",
       "      <td>Books</td>\n",
       "    </tr>\n",
       "  </tbody>\n",
       "</table>\n",
       "</div>"
      ],
      "text/plain": [
       "    gender medium\n",
       "8   Female  Books\n",
       "16  Female  Books\n",
       "17  Female  Books\n",
       "23  Female  Books\n",
       "25  Female  Books\n",
       "34  Female  Books\n",
       "39  Female  Books\n",
       "48  Female  Books\n",
       "50  Female  Books\n",
       "60  Female  Books\n",
       "62  Female  Books\n",
       "67  Female  Books\n",
       "79  Female  Books"
      ]
     },
     "execution_count": 14,
     "metadata": {},
     "output_type": "execute_result"
    }
   ],
   "source": [
    "# Find all rows in df with gender equal to the first value in first and medium equal to first value in second.\n",
    "df[(df['gender'] == first[0]) & (df['medium'] == second[0])]"
   ]
  },
  {
   "cell_type": "markdown",
   "metadata": {},
   "source": [
    "## Statistical Test\n",
    "\n",
    "https://docs.scipy.org/doc/scipy/reference/generated/scipy.stats.chi2_contingency.html\n",
    "\n",
    "***"
   ]
  },
  {
   "cell_type": "code",
   "execution_count": 15,
   "metadata": {},
   "outputs": [
    {
     "data": {
      "text/plain": [
       "array([[13, 27],\n",
       "       [16, 24]])"
      ]
     },
     "execution_count": 15,
     "metadata": {},
     "output_type": "execute_result"
    }
   ],
   "source": [
    "# The contigency table.\n",
    "cross.count"
   ]
  },
  {
   "cell_type": "code",
   "execution_count": 16,
   "metadata": {},
   "outputs": [
    {
     "data": {
      "text/plain": [
       "Chi2ContingencyResult(statistic=0.486815415821501, pvalue=0.4853513240525321, dof=1, expected_freq=array([[14.5, 25.5],\n",
       "       [14.5, 25.5]]))"
      ]
     },
     "execution_count": 16,
     "metadata": {},
     "output_type": "execute_result"
    }
   ],
   "source": [
    "# Do the statistics. Just do them.\n",
    "result = ss.chi2_contingency(cross.count, correction=False)\n",
    "\n",
    "# Show.\n",
    "result"
   ]
  },
  {
   "cell_type": "code",
   "execution_count": 17,
   "metadata": {},
   "outputs": [
    {
     "data": {
      "text/plain": [
       "array([[14.5, 25.5],\n",
       "       [14.5, 25.5]])"
      ]
     },
     "execution_count": 17,
     "metadata": {},
     "output_type": "execute_result"
    }
   ],
   "source": [
    "# The expected fequencies if independent.\n",
    "result.expected_freq"
   ]
  },
  {
   "cell_type": "code",
   "execution_count": 18,
   "metadata": {},
   "outputs": [
    {
     "data": {
      "text/plain": [
       "0.3625"
      ]
     },
     "execution_count": 18,
     "metadata": {},
     "output_type": "execute_result"
    }
   ],
   "source": [
    "# Preferred books irrespective of gender.\n",
    "29 / 80"
   ]
  },
  {
   "cell_type": "code",
   "execution_count": 19,
   "metadata": {},
   "outputs": [
    {
     "data": {
      "text/plain": [
       "14.5"
      ]
     },
     "execution_count": 19,
     "metadata": {},
     "output_type": "execute_result"
    }
   ],
   "source": [
    "# If no relationship between gender and medium,\n",
    "# then we should have same proportion of males\n",
    "# liking books as we have overall.\n",
    "40 * (29 / 80)"
   ]
  },
  {
   "cell_type": "code",
   "execution_count": 20,
   "metadata": {},
   "outputs": [
    {
     "data": {
      "text/plain": [
       "25.5"
      ]
     },
     "execution_count": 20,
     "metadata": {},
     "output_type": "execute_result"
    }
   ],
   "source": [
    "# If no relationship between gender and medium,\n",
    "# then we should have same proportion of people liking\n",
    "# online who are female as we have overall.\n",
    "51 * (40 / 80)"
   ]
  },
  {
   "cell_type": "markdown",
   "metadata": {},
   "source": [
    "## Bonus: Calculating the Statistic\n",
    "\n",
    "https://en.wikipedia.org/wiki/Pearson%27s_chi-squared_test#Calculating_the_test-statistic\n",
    "\n",
    "***"
   ]
  },
  {
   "cell_type": "code",
   "execution_count": 21,
   "metadata": {},
   "outputs": [
    {
     "data": {
      "text/plain": [
       "array([[13, 27],\n",
       "       [16, 24]])"
      ]
     },
     "execution_count": 21,
     "metadata": {},
     "output_type": "execute_result"
    }
   ],
   "source": [
    "# Observed.\n",
    "cross.count"
   ]
  },
  {
   "cell_type": "code",
   "execution_count": 22,
   "metadata": {},
   "outputs": [
    {
     "data": {
      "text/plain": [
       "array([[14.5, 25.5],\n",
       "       [14.5, 25.5]])"
      ]
     },
     "execution_count": 22,
     "metadata": {},
     "output_type": "execute_result"
    }
   ],
   "source": [
    "# Expected.\n",
    "result.expected_freq"
   ]
  },
  {
   "cell_type": "code",
   "execution_count": 23,
   "metadata": {},
   "outputs": [
    {
     "data": {
      "text/plain": [
       "array([[-1.5,  1.5],\n",
       "       [ 1.5, -1.5]])"
      ]
     },
     "execution_count": 23,
     "metadata": {},
     "output_type": "execute_result"
    }
   ],
   "source": [
    "# Difference.\n",
    "cross.count - result.expected_freq"
   ]
  },
  {
   "cell_type": "code",
   "execution_count": 24,
   "metadata": {},
   "outputs": [
    {
     "data": {
      "text/plain": [
       "array([[2.25, 2.25],\n",
       "       [2.25, 2.25]])"
      ]
     },
     "execution_count": 24,
     "metadata": {},
     "output_type": "execute_result"
    }
   ],
   "source": [
    "# Difference squared.\n",
    "(cross.count - result.expected_freq)**2"
   ]
  },
  {
   "cell_type": "code",
   "execution_count": 25,
   "metadata": {},
   "outputs": [
    {
     "data": {
      "text/plain": [
       "array([[0.15517241, 0.08823529],\n",
       "       [0.15517241, 0.08823529]])"
      ]
     },
     "execution_count": 25,
     "metadata": {},
     "output_type": "execute_result"
    }
   ],
   "source": [
    "# Difference squared divided by expected.\n",
    "(cross.count - result.expected_freq)**2 / result.expected_freq"
   ]
  },
  {
   "cell_type": "code",
   "execution_count": 26,
   "metadata": {},
   "outputs": [
    {
     "data": {
      "text/plain": [
       "0.486815415821501"
      ]
     },
     "execution_count": 26,
     "metadata": {},
     "output_type": "execute_result"
    }
   ],
   "source": [
    "# Sum of (difference squared divided by expected).\n",
    "((cross.count - result.expected_freq)**2 / result.expected_freq).sum()"
   ]
  },
  {
   "cell_type": "markdown",
   "metadata": {},
   "source": [
    "***\n",
    "\n",
    "## End"
   ]
  }
 ],
 "metadata": {
  "kernelspec": {
   "display_name": "base",
   "language": "python",
   "name": "python3"
  },
  "language_info": {
   "codemirror_mode": {
    "name": "ipython",
    "version": 3
   },
   "file_extension": ".py",
   "mimetype": "text/x-python",
   "name": "python",
   "nbconvert_exporter": "python",
   "pygments_lexer": "ipython3",
   "version": "3.10.12"
  },
  "orig_nbformat": 4
 },
 "nbformat": 4,
 "nbformat_minor": 2
}
