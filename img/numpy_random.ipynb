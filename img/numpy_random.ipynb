{
 "cells": [
  {
   "cell_type": "markdown",
   "metadata": {},
   "source": [
    "# Random Numbers in numpy\n",
    "\n",
    "***"
   ]
  },
  {
   "cell_type": "code",
   "execution_count": 1,
   "metadata": {},
   "outputs": [],
   "source": [
    "# Numerical arrays, random numbers.\n",
    "import numpy as np\n",
    "\n",
    "# Plots.\n",
    "import matplotlib.pyplot as plt"
   ]
  },
  {
   "cell_type": "markdown",
   "metadata": {},
   "source": [
    "## Python Standard Library\n",
    "\n",
    "https://docs.python.org/3/library/random.html\n",
    "\n",
    "***"
   ]
  },
  {
   "cell_type": "code",
   "execution_count": 2,
   "metadata": {},
   "outputs": [],
   "source": [
    "# The random module from the standard library.\n",
    "import random"
   ]
  },
  {
   "cell_type": "code",
   "execution_count": 3,
   "metadata": {},
   "outputs": [
    {
     "name": "stdout",
     "output_type": "stream",
     "text": [
      "\u001b[0;31mSignature:\u001b[0m \u001b[0mrandom\u001b[0m\u001b[0;34m.\u001b[0m\u001b[0mrandint\u001b[0m\u001b[0;34m(\u001b[0m\u001b[0ma\u001b[0m\u001b[0;34m,\u001b[0m \u001b[0mb\u001b[0m\u001b[0;34m)\u001b[0m\u001b[0;34m\u001b[0m\u001b[0;34m\u001b[0m\u001b[0m\n",
      "\u001b[0;31mDocstring:\u001b[0m\n",
      "Return random integer in range [a, b], including both end points.\n",
      "        \n",
      "\u001b[0;31mFile:\u001b[0m      ~/.miniconda/lib/python3.10/random.py\n",
      "\u001b[0;31mType:\u001b[0m      method"
     ]
    }
   ],
   "source": [
    "# Using autocomplete, we can a get a flavour of the module.\n",
    "# Putting a question mark in front of a function name prints\n",
    "# a little help message.\n",
    "?random.randint"
   ]
  },
  {
   "cell_type": "code",
   "execution_count": 4,
   "metadata": {},
   "outputs": [
    {
     "data": {
      "text/plain": [
       "17"
      ]
     },
     "execution_count": 4,
     "metadata": {},
     "output_type": "execute_result"
    }
   ],
   "source": [
    "# Based on the above, we can generate a random integer between\n",
    "# 10 and 20, inclusive.\n",
    "random.randint(10, 20)"
   ]
  },
  {
   "cell_type": "code",
   "execution_count": 5,
   "metadata": {},
   "outputs": [
    {
     "data": {
      "text/plain": [
       "[10, 9, 7, 9, 7, 8, 3, 5, 5, 2]"
      ]
     },
     "execution_count": 5,
     "metadata": {},
     "output_type": "execute_result"
    }
   ],
   "source": [
    "# Generate a list of 100 random integers between 1 and 10.\n",
    "L = [random.randint(1, 10) for i in range(100)]\n",
    "\n",
    "# Show the first ten items of L.\n",
    "L[:10]"
   ]
  },
  {
   "cell_type": "code",
   "execution_count": 6,
   "metadata": {},
   "outputs": [],
   "source": [
    "# List of car makes.\n",
    "makes = ['Toyota', 'Skoda', 'Ford', 'Renault']"
   ]
  },
  {
   "cell_type": "code",
   "execution_count": 7,
   "metadata": {},
   "outputs": [
    {
     "data": {
      "text/plain": [
       "'Renault'"
      ]
     },
     "execution_count": 7,
     "metadata": {},
     "output_type": "execute_result"
    }
   ],
   "source": [
    "# Select one at random.\n",
    "random.choice(makes)"
   ]
  },
  {
   "cell_type": "code",
   "execution_count": 8,
   "metadata": {},
   "outputs": [
    {
     "data": {
      "text/plain": [
       "['Renault',\n",
       " 'Toyota',\n",
       " 'Ford',\n",
       " 'Ford',\n",
       " 'Renault',\n",
       " 'Skoda',\n",
       " 'Ford',\n",
       " 'Ford',\n",
       " 'Renault',\n",
       " 'Renault']"
      ]
     },
     "execution_count": 8,
     "metadata": {},
     "output_type": "execute_result"
    }
   ],
   "source": [
    "# Select ten random makes (with replacement).\n",
    "random.choices(makes, k=10)"
   ]
  },
  {
   "cell_type": "code",
   "execution_count": 9,
   "metadata": {},
   "outputs": [],
   "source": [
    "# First eight letters.\n",
    "letters = ['A', 'B', 'C', 'D', 'E', 'F', 'G', 'H']"
   ]
  },
  {
   "cell_type": "code",
   "execution_count": 10,
   "metadata": {},
   "outputs": [],
   "source": [
    "# Shuffle them.\n",
    "random.shuffle(letters)"
   ]
  },
  {
   "cell_type": "code",
   "execution_count": 11,
   "metadata": {},
   "outputs": [
    {
     "data": {
      "text/plain": [
       "['C', 'A', 'B', 'H', 'E', 'G', 'F', 'D']"
      ]
     },
     "execution_count": 11,
     "metadata": {},
     "output_type": "execute_result"
    }
   ],
   "source": [
    "# Look at letters after shuffle.\n",
    "letters"
   ]
  },
  {
   "cell_type": "code",
   "execution_count": 12,
   "metadata": {},
   "outputs": [
    {
     "data": {
      "text/plain": [
       "['F', 'B', 'A', 'D', 'E']"
      ]
     },
     "execution_count": 12,
     "metadata": {},
     "output_type": "execute_result"
    }
   ],
   "source": [
    "# Random selection without replacement.\n",
    "random.sample(letters, k=5)"
   ]
  },
  {
   "cell_type": "code",
   "execution_count": 13,
   "metadata": {},
   "outputs": [
    {
     "data": {
      "text/plain": [
       "0.04348037300480778"
      ]
     },
     "execution_count": 13,
     "metadata": {},
     "output_type": "execute_result"
    }
   ],
   "source": [
    "# Random real (floating-point) number. [0.0, 1.0)\n",
    "random.random()"
   ]
  },
  {
   "cell_type": "code",
   "execution_count": 14,
   "metadata": {},
   "outputs": [
    {
     "data": {
      "text/plain": [
       "20.21966309683506"
      ]
     },
     "execution_count": 14,
     "metadata": {},
     "output_type": "execute_result"
    }
   ],
   "source": [
    "# Pick a random floating point number between 0.0 and 100.0. [0.0, 100.0]\n",
    "random.uniform(0.0, 100.0)"
   ]
  },
  {
   "cell_type": "markdown",
   "metadata": {},
   "source": [
    "## numpy\n",
    "\n",
    "[numpy API Reference: Random sampling](https://numpy.org/doc/stable/reference/random/index.html)\n",
    "\n",
    "https://numpy.org/doc/stable/reference/random/index.html\n",
    "\n",
    "***"
   ]
  },
  {
   "cell_type": "code",
   "execution_count": 15,
   "metadata": {},
   "outputs": [],
   "source": [
    "# Random Number Generator (RNG) for generating random numbers.\n",
    "rng = np.random.default_rng()"
   ]
  },
  {
   "cell_type": "code",
   "execution_count": 16,
   "metadata": {},
   "outputs": [
    {
     "data": {
      "text/plain": [
       "array([0.03868619, 0.11603755, 0.52655561, 0.88802599, 0.28810038,\n",
       "       0.49254221, 0.2599568 , 0.67472017, 0.6185569 , 0.535634  ])"
      ]
     },
     "execution_count": 16,
     "metadata": {},
     "output_type": "execute_result"
    }
   ],
   "source": [
    "# Generate random floating point numbers in the interval 0.0 (included) to 1.0 (excluded).\n",
    "rng.random(10)"
   ]
  },
  {
   "cell_type": "markdown",
   "metadata": {},
   "source": [
    "Generate numbers on a standard Normal distribution.\n",
    "\n",
    "The mean is 0.0 and standard deviation is 1.0.\n",
    "\n",
    "The numbers generated should be, on average, centred on 0.0.\n",
    "\n",
    "More than 99% of the numbers generated should be in the interval (-3.0, 3.0)."
   ]
  },
  {
   "cell_type": "code",
   "execution_count": 17,
   "metadata": {},
   "outputs": [
    {
     "data": {
      "text/plain": [
       "array([ 6.10823106e-01, -8.80754573e-01, -5.07323673e-01, -7.31630817e-01,\n",
       "       -1.69208163e+00,  7.24182943e-01,  1.65183558e+00,  9.05821688e-01,\n",
       "        1.96374699e-03, -2.48340588e+00, -1.48320222e+00,  2.30078639e+00,\n",
       "       -6.62779545e-01, -6.25894403e-01,  2.07630099e+00,  4.58670586e-01,\n",
       "        3.28214191e-01, -8.13389843e-01, -1.15316757e+00, -3.13692204e-01,\n",
       "        2.84497483e-01,  1.08071909e-01, -9.31309515e-02,  5.53686126e-01,\n",
       "        2.00018384e-01,  1.67456463e+00, -7.33604768e-01,  8.82114241e-01,\n",
       "       -2.24405468e-01, -3.94123514e-01,  1.49227890e+00, -7.80179086e-02,\n",
       "        8.08199101e-01,  4.73149351e-01,  8.84228871e-01,  6.91480708e-01,\n",
       "        2.55859891e+00,  1.17049681e+00,  3.98225078e-01, -5.01267886e-01,\n",
       "       -6.99190028e-01,  6.96009483e-01, -5.63405881e-01,  2.09771461e+00,\n",
       "        1.97252939e+00,  3.69329498e-01, -1.15331529e+00, -6.19721714e-01,\n",
       "        2.76322730e-01, -4.85536604e-01,  1.18816090e+00,  1.43295566e+00,\n",
       "       -2.21003604e+00,  1.11955666e+00, -1.29845027e+00, -5.46631186e-01,\n",
       "       -2.21209707e-01, -1.26384879e+00, -2.06135284e-01,  8.17796279e-01,\n",
       "       -7.45110978e-01,  5.12979028e-01,  2.70776010e-01, -2.76264349e-01,\n",
       "       -1.28263310e+00,  6.16593853e-01, -5.83463810e-02, -4.01056415e-01,\n",
       "       -3.75198023e-01,  1.68202868e+00, -2.50130976e+00,  1.05950455e+00,\n",
       "        1.86206899e+00,  1.24859159e-01,  4.25456172e-01,  6.43382478e-01,\n",
       "       -1.25639035e+00,  7.72552254e-01,  4.86548493e-01,  2.24577073e-01,\n",
       "        1.16207967e+00, -1.35668637e+00,  2.91370539e-01,  1.26110695e+00,\n",
       "       -2.12085172e+00, -1.31153332e-01, -1.07159747e-01, -6.66402329e-01,\n",
       "        1.02692267e+00,  8.22014873e-01,  1.07010525e+00, -1.37831638e+00,\n",
       "        6.65229678e-01, -9.78770114e-01,  9.38132510e-02, -1.61014193e-01,\n",
       "       -6.60932287e-01, -9.05648405e-02,  3.02317261e-01,  6.23389775e-01])"
      ]
     },
     "execution_count": 17,
     "metadata": {},
     "output_type": "execute_result"
    }
   ],
   "source": [
    "# Generate numbers on a standard Normal distribution.\n",
    "rng.standard_normal(100)"
   ]
  },
  {
   "cell_type": "code",
   "execution_count": 18,
   "metadata": {},
   "outputs": [
    {
     "data": {
      "text/plain": [
       "array([13, 10, 11, 10, 11, 10, 16, 11, 13, 15, 11, 16, 17, 10, 16])"
      ]
     },
     "execution_count": 18,
     "metadata": {},
     "output_type": "execute_result"
    }
   ],
   "source": [
    "# Generated 15 integers between 10 (included) and 20 (excluded).\n",
    "rng.integers(low=10, high=20, size=15) "
   ]
  },
  {
   "cell_type": "markdown",
   "metadata": {},
   "source": [
    "***\n",
    "\n",
    "#### End"
   ]
  }
 ],
 "metadata": {
  "kernelspec": {
   "display_name": "base",
   "language": "python",
   "name": "python3"
  },
  "language_info": {
   "codemirror_mode": {
    "name": "ipython",
    "version": 3
   },
   "file_extension": ".py",
   "mimetype": "text/x-python",
   "name": "python",
   "nbconvert_exporter": "python",
   "pygments_lexer": "ipython3",
   "version": "3.10.12"
  },
  "orig_nbformat": 4
 },
 "nbformat": 4,
 "nbformat_minor": 2
}
