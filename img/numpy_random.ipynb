{
 "cells": [
  {
   "cell_type": "markdown",
   "metadata": {},
   "source": [
    "# Random Numbers in numpy\n",
    "\n",
    "***"
   ]
  },
  {
   "cell_type": "code",
   "execution_count": 1,
   "metadata": {},
   "outputs": [],
   "source": [
    "# Numerical arrays, random numbers.\n",
    "import numpy as np\n",
    "\n",
    "# Plots.\n",
    "import matplotlib.pyplot as plt"
   ]
  },
  {
   "cell_type": "markdown",
   "metadata": {},
   "source": [
    "## Python Standard Library\n",
    "\n",
    "https://docs.python.org/3/library/random.html\n",
    "\n",
    "***"
   ]
  },
  {
   "cell_type": "code",
   "execution_count": 2,
   "metadata": {},
   "outputs": [],
   "source": [
    "# The random module from the standard library.\n",
    "import random"
   ]
  },
  {
   "cell_type": "code",
   "execution_count": 3,
   "metadata": {},
   "outputs": [
    {
     "name": "stdout",
     "output_type": "stream",
     "text": [
      "\u001b[0;31mSignature:\u001b[0m \u001b[0mrandom\u001b[0m\u001b[0;34m.\u001b[0m\u001b[0mrandint\u001b[0m\u001b[0;34m(\u001b[0m\u001b[0ma\u001b[0m\u001b[0;34m,\u001b[0m \u001b[0mb\u001b[0m\u001b[0;34m)\u001b[0m\u001b[0;34m\u001b[0m\u001b[0;34m\u001b[0m\u001b[0m\n",
      "\u001b[0;31mDocstring:\u001b[0m\n",
      "Return random integer in range [a, b], including both end points.\n",
      "        \n",
      "\u001b[0;31mFile:\u001b[0m      ~/.miniconda/lib/python3.10/random.py\n",
      "\u001b[0;31mType:\u001b[0m      method"
     ]
    }
   ],
   "source": [
    "# Using autocomplete, we can a get a flavour of the module.\n",
    "# Putting a question mark in front of a function name prints\n",
    "# a little help message.\n",
    "?random.randint"
   ]
  },
  {
   "cell_type": "code",
   "execution_count": 4,
   "metadata": {},
   "outputs": [
    {
     "data": {
      "text/plain": [
       "13"
      ]
     },
     "execution_count": 4,
     "metadata": {},
     "output_type": "execute_result"
    }
   ],
   "source": [
    "# Based on the above, we can generate a random integer between\n",
    "# 10 and 20, inclusive.\n",
    "random.randint(10, 20)"
   ]
  },
  {
   "cell_type": "code",
   "execution_count": 5,
   "metadata": {},
   "outputs": [
    {
     "data": {
      "text/plain": [
       "[4, 7, 2, 9, 7, 1, 5, 8, 4, 6]"
      ]
     },
     "execution_count": 5,
     "metadata": {},
     "output_type": "execute_result"
    }
   ],
   "source": [
    "# Generate a list of 100 random integers between 1 and 10.\n",
    "L = [random.randint(1, 10) for i in range(100)]\n",
    "\n",
    "# Show the first ten items of L.\n",
    "L[:10]"
   ]
  },
  {
   "cell_type": "code",
   "execution_count": 6,
   "metadata": {},
   "outputs": [],
   "source": [
    "# List of car makes.\n",
    "makes = ['Toyota', 'Skoda', 'Ford', 'Renault']"
   ]
  },
  {
   "cell_type": "code",
   "execution_count": 7,
   "metadata": {},
   "outputs": [
    {
     "data": {
      "text/plain": [
       "'Ford'"
      ]
     },
     "execution_count": 7,
     "metadata": {},
     "output_type": "execute_result"
    }
   ],
   "source": [
    "# Select one at random.\n",
    "random.choice(makes)"
   ]
  },
  {
   "cell_type": "code",
   "execution_count": 8,
   "metadata": {},
   "outputs": [
    {
     "data": {
      "text/plain": [
       "['Renault',\n",
       " 'Skoda',\n",
       " 'Renault',\n",
       " 'Renault',\n",
       " 'Skoda',\n",
       " 'Ford',\n",
       " 'Skoda',\n",
       " 'Renault',\n",
       " 'Skoda',\n",
       " 'Skoda']"
      ]
     },
     "execution_count": 8,
     "metadata": {},
     "output_type": "execute_result"
    }
   ],
   "source": [
    "# Select ten random makes (with replacement).\n",
    "random.choices(makes, k=10)"
   ]
  },
  {
   "cell_type": "code",
   "execution_count": 9,
   "metadata": {},
   "outputs": [],
   "source": [
    "# First eight letters.\n",
    "letters = ['A', 'B', 'C', 'D', 'E', 'F', 'G', 'H']"
   ]
  },
  {
   "cell_type": "code",
   "execution_count": 10,
   "metadata": {},
   "outputs": [],
   "source": [
    "# Shuffle them.\n",
    "random.shuffle(letters)"
   ]
  },
  {
   "cell_type": "code",
   "execution_count": 11,
   "metadata": {},
   "outputs": [
    {
     "data": {
      "text/plain": [
       "['D', 'F', 'B', 'C', 'E', 'G', 'H', 'A']"
      ]
     },
     "execution_count": 11,
     "metadata": {},
     "output_type": "execute_result"
    }
   ],
   "source": [
    "# Look at letters after shuffle.\n",
    "letters"
   ]
  },
  {
   "cell_type": "code",
   "execution_count": 12,
   "metadata": {},
   "outputs": [
    {
     "data": {
      "text/plain": [
       "['A', 'D', 'C', 'E', 'H']"
      ]
     },
     "execution_count": 12,
     "metadata": {},
     "output_type": "execute_result"
    }
   ],
   "source": [
    "# Random selection without replacement.\n",
    "random.sample(letters, k=5)"
   ]
  },
  {
   "cell_type": "code",
   "execution_count": 13,
   "metadata": {},
   "outputs": [
    {
     "data": {
      "text/plain": [
       "0.959128267918845"
      ]
     },
     "execution_count": 13,
     "metadata": {},
     "output_type": "execute_result"
    }
   ],
   "source": [
    "# Random real (floating-point) number. [0.0, 1.0)\n",
    "random.random()"
   ]
  },
  {
   "cell_type": "code",
   "execution_count": 14,
   "metadata": {},
   "outputs": [
    {
     "data": {
      "text/plain": [
       "78.5292982725986"
      ]
     },
     "execution_count": 14,
     "metadata": {},
     "output_type": "execute_result"
    }
   ],
   "source": [
    "# Pick a random floating point number between 0.0 and 100.0. [0.0, 100.0]\n",
    "random.uniform(0.0, 100.0)"
   ]
  },
  {
   "cell_type": "markdown",
   "metadata": {},
   "source": [
    "## numpy\n",
    "\n",
    "[numpy API Reference: Random sampling](https://numpy.org/doc/stable/reference/random/index.html)\n",
    "\n",
    "https://numpy.org/doc/stable/reference/random/index.html\n",
    "\n",
    "***"
   ]
  },
  {
   "cell_type": "code",
   "execution_count": 15,
   "metadata": {},
   "outputs": [],
   "source": [
    "# Random Number Generator (RNG) for generating random numbers.\n",
    "rng = np.random.default_rng()"
   ]
  },
  {
   "cell_type": "code",
   "execution_count": 16,
   "metadata": {},
   "outputs": [
    {
     "data": {
      "text/plain": [
       "array([0.50635235, 0.88462417, 0.17508488, 0.82830741, 0.65822867,\n",
       "       0.28781641, 0.9583411 , 0.44061961, 0.68493494, 0.04959011])"
      ]
     },
     "execution_count": 16,
     "metadata": {},
     "output_type": "execute_result"
    }
   ],
   "source": [
    "# Generate random floating point numbers in the interval 0.0 (included) to 1.0 (excluded).\n",
    "rng.random(10)"
   ]
  },
  {
   "cell_type": "markdown",
   "metadata": {},
   "source": [
    "Generate numbers on a standard Normal distribution.\n",
    "\n",
    "The mean is 0.0 and standard deviation is 1.0.\n",
    "\n",
    "The numbers generated should be, on average, centred on 0.0.\n",
    "\n",
    "More than 99% of the numbers generated should be in the interval (-3.0, 3.0)."
   ]
  },
  {
   "cell_type": "code",
   "execution_count": 17,
   "metadata": {},
   "outputs": [
    {
     "data": {
      "text/plain": [
       "array([ 1.14176223e-01, -1.08603199e+00,  7.17623041e-01, -1.98596031e-01,\n",
       "        1.11517218e+00,  1.15149055e+00, -1.25204761e+00,  1.92620932e+00,\n",
       "        1.03464641e+00,  2.04487218e+00, -2.45166396e-01,  6.72535276e-01,\n",
       "        5.81885010e-01,  1.20457437e+00,  3.64779391e-01,  2.31023369e+00,\n",
       "       -1.51692626e+00, -4.71435047e-01, -1.74739561e-02,  1.01084405e+00,\n",
       "        1.26791726e-01, -7.51576551e-02,  8.06827146e-01, -5.97836769e-01,\n",
       "        1.18192330e+00,  5.18571207e-01,  6.71653663e-01, -1.22341962e+00,\n",
       "       -2.31553821e-01,  5.97429428e-01,  1.19814517e+00, -1.13299942e-01,\n",
       "        5.01372481e-01, -1.23097830e+00,  1.27626859e+00, -1.71571376e+00,\n",
       "       -1.76068860e-01,  4.82298273e-01, -1.08677304e+00, -9.92405475e-02,\n",
       "       -4.47282538e-02, -9.09341974e-01, -5.26370252e-01, -1.17633279e+00,\n",
       "       -6.62944055e-01, -1.47577317e+00, -7.75956598e-01,  6.33961437e-01,\n",
       "        7.98059299e-01, -1.51942182e+00,  1.83526690e-01,  1.76535038e-01,\n",
       "       -5.62312760e-01, -1.95305592e-01,  3.94294944e-01, -1.23173778e+00,\n",
       "       -6.77744284e-01,  5.48888010e-01, -1.40600980e-01, -3.93767950e-01,\n",
       "        6.02101366e-01, -1.81675051e+00, -6.66642910e-01,  1.72786948e-01,\n",
       "        2.38025054e-01, -6.72807744e-01,  8.26505051e-01,  2.52976038e-01,\n",
       "       -1.41923683e+00, -8.73979501e-01, -7.85796072e-01,  1.05941713e+00,\n",
       "       -1.16572844e+00, -2.47408201e+00,  4.91794124e-01,  2.35478894e+00,\n",
       "        1.69181724e+00,  1.77929476e+00,  1.12213893e-01,  8.40735268e-01,\n",
       "       -1.12892278e+00, -9.11862689e-01, -3.61768816e-02,  9.14782375e-01,\n",
       "        1.28234398e+00, -1.37805132e+00,  8.66990423e-01, -3.05206498e-04,\n",
       "       -3.15359674e-01, -8.69268799e-01,  3.18506309e-01,  9.31189029e-01,\n",
       "        1.46249751e+00, -6.59621251e-01, -8.28737873e-01, -3.65803076e-01,\n",
       "        2.47716779e+00,  4.91531817e-01,  6.14162273e-01, -2.16598265e-01])"
      ]
     },
     "execution_count": 17,
     "metadata": {},
     "output_type": "execute_result"
    }
   ],
   "source": [
    "# Generate numbers on a standard Normal distribution.\n",
    "rng.standard_normal(100)"
   ]
  },
  {
   "cell_type": "code",
   "execution_count": 18,
   "metadata": {},
   "outputs": [
    {
     "data": {
      "text/plain": [
       "array([17, 15, 13, 19, 18, 10, 17, 18, 10, 18, 12, 19, 11, 13, 17])"
      ]
     },
     "execution_count": 18,
     "metadata": {},
     "output_type": "execute_result"
    }
   ],
   "source": [
    "# Generated 15 integers between 10 (included) and 20 (excluded).\n",
    "rng.integers(low=10, high=20, size=15) "
   ]
  },
  {
   "cell_type": "markdown",
   "metadata": {},
   "source": [
    "## Plotting Bar Charts\n",
    "\n",
    "***"
   ]
  },
  {
   "cell_type": "code",
   "execution_count": 19,
   "metadata": {},
   "outputs": [],
   "source": [
    "# The lowest integer allowed.\n",
    "low = 1\n",
    "\n",
    "# The highest integer allowed.\n",
    "high = 10\n",
    "\n",
    "# The number of integers to generate.\n",
    "size = 100000"
   ]
  },
  {
   "cell_type": "code",
   "execution_count": 20,
   "metadata": {},
   "outputs": [],
   "source": [
    "# Generate a list of random integers.\n",
    "rand_ints = rng.integers(low=low, high=high + 1, size=size)\n",
    "\n",
    "# Show.\n",
    "# rand_ints"
   ]
  },
  {
   "cell_type": "code",
   "execution_count": 21,
   "metadata": {},
   "outputs": [
    {
     "data": {
      "text/plain": [
       "array([ 1,  2,  3,  4,  5,  6,  7,  8,  9, 10])"
      ]
     },
     "execution_count": 21,
     "metadata": {},
     "output_type": "execute_result"
    }
   ],
   "source": [
    "# The unique elements of rand_ints.\n",
    "np.unique(rand_ints)"
   ]
  },
  {
   "cell_type": "code",
   "execution_count": 22,
   "metadata": {},
   "outputs": [
    {
     "data": {
      "text/plain": [
       "(array([ 1,  2,  3,  4,  5,  6,  7,  8,  9, 10]),\n",
       " array([10026, 10088, 10065, 10098,  9916,  9898,  9987,  9980, 10018,\n",
       "         9924]))"
      ]
     },
     "execution_count": 22,
     "metadata": {},
     "output_type": "execute_result"
    }
   ],
   "source": [
    "# The unique elements of rand_ints, with counts.\n",
    "x, counts = np.unique(rand_ints, return_counts=True)\n",
    "\n",
    "# Show the x and counts arrays.\n",
    "x, counts"
   ]
  },
  {
   "cell_type": "code",
   "execution_count": 23,
   "metadata": {},
   "outputs": [
    {
     "data": {
      "image/png": "[encoded data removed]",
      "text/plain": [
       "<Figure size 1200x300 with 1 Axes>"
      ]
     },
     "metadata": {},
     "output_type": "display_data"
    }
   ],
   "source": [
    "# Create an empty plot.\n",
    "fig, ax = plt.subplots(figsize=(12, 3))\n",
    "\n",
    "# Plot a bar chart.\n",
    "ax.bar(x, counts);"
   ]
  },
  {
   "cell_type": "markdown",
   "metadata": {},
   "source": [
    "## Plotting Histograms\n",
    "\n",
    "***"
   ]
  },
  {
   "cell_type": "code",
   "execution_count": 24,
   "metadata": {},
   "outputs": [],
   "source": [
    "# The number of floating points numbers to generate.\n",
    "size = 100000"
   ]
  },
  {
   "cell_type": "code",
   "execution_count": 25,
   "metadata": {},
   "outputs": [],
   "source": [
    "# Generate random floating point numbers in the interval 0.0 (included) to 1.0 (excluded).\n",
    "rand_floats = rng.random(size)\n",
    "\n",
    "# Show rand_floats.\n",
    "# rand_floats"
   ]
  },
  {
   "cell_type": "code",
   "execution_count": 26,
   "metadata": {},
   "outputs": [
    {
     "data": {
      "image/png": "[encoded data removed]",
      "text/plain": [
       "<Figure size 1200x300 with 1 Axes>"
      ]
     },
     "metadata": {},
     "output_type": "display_data"
    }
   ],
   "source": [
    "# Create an empty plot.\n",
    "fig, ax = plt.subplots(figsize=(12, 3))\n",
    "\n",
    "# Plot a histogram.\n",
    "ax.hist(rand_floats, bins=100);"
   ]
  },
  {
   "cell_type": "markdown",
   "metadata": {},
   "source": [
    "## Normal Looking Data\n",
    "\n",
    "***"
   ]
  },
  {
   "cell_type": "code",
   "execution_count": 27,
   "metadata": {},
   "outputs": [],
   "source": [
    "# Generate numbers on a standard Normal distribution.\n",
    "rand_normal = rng.standard_normal(100000)"
   ]
  },
  {
   "cell_type": "code",
   "execution_count": 28,
   "metadata": {},
   "outputs": [
    {
     "data": {
      "image/png": "[encoded data removed]",
      "text/plain": [
       "<Figure size 1200x300 with 1 Axes>"
      ]
     },
     "metadata": {},
     "output_type": "display_data"
    }
   ],
   "source": [
    "# Create an empty plot.\n",
    "fig, ax = plt.subplots(figsize=(12, 3))\n",
    "\n",
    "# Plot a histogram.\n",
    "ax.hist(rand_normal, bins=100, density=True);"
   ]
  },
  {
   "cell_type": "markdown",
   "metadata": {},
   "source": [
    "***\n",
    "\n",
    "#### End"
   ]
  }
 ],
 "metadata": {
  "kernelspec": {
   "display_name": "base",
   "language": "python",
   "name": "python3"
  },
  "language_info": {
   "codemirror_mode": {
    "name": "ipython",
    "version": 3
   },
   "file_extension": ".py",
   "mimetype": "text/x-python",
   "name": "python",
   "nbconvert_exporter": "python",
   "pygments_lexer": "ipython3",
   "version": "3.10.12"
  },
  "orig_nbformat": 4
 },
 "nbformat": 4,
 "nbformat_minor": 2
}
