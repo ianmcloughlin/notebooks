{
 "cells": [
  {
   "cell_type": "code",
   "execution_count": 1,
   "id": "4b510740-816b-4fed-b364-57815400e10a",
   "metadata": {},
   "outputs": [],
   "source": [
    "import qiskit"
   ]
  },
  {
   "cell_type": "code",
   "execution_count": 2,
   "id": "d36c81ca-0691-4132-889b-dea93afc91d3",
   "metadata": {},
   "outputs": [
    {
     "data": {
      "text/html": [
       "<pre style=\"word-wrap: normal;white-space: pre;background: #fff0;line-height: 1.1;font-family: &quot;Courier New&quot;,Courier,monospace\">              ░      ┌───┐ ░    ┌─┐ ░                         \n",
       "Q: ───────────░───■──┤ H ├─░────┤M├─░─────────────────────────\n",
       "   ┌───┐      ░ ┌─┴─┐└───┘ ░ ┌─┐└╥┘ ░                         \n",
       "A: ┤ H ├──■───░─┤ X ├──────░─┤M├─╫──░─────────────────────────\n",
       "   └───┘┌─┴─┐ ░ └───┘      ░ └╥┘ ║  ░ ┌──────────┐┌──────────┐\n",
       "B: ─────┤ X ├─░────────────░──╫──╫──░─┤0         ├┤0         ├\n",
       "        └───┘ ░            ░  ║  ║  ░ │  If_else ││          │\n",
       "a: ═══════════════════════════╩══╬════╡0         ╞╡          ╞\n",
       "                                 ║    └──────────┘│          │\n",
       "b: ══════════════════════════════╩════════════════╡0         ╞\n",
       "                                                  └──────────┘</pre>"
      ],
      "text/plain": [
       "              ░      ┌───┐ ░    ┌─┐ ░                         \n",
       "Q: ───────────░───■──┤ H ├─░────┤M├─░─────────────────────────\n",
       "   ┌───┐      ░ ┌─┴─┐└───┘ ░ ┌─┐└╥┘ ░                         \n",
       "A: ┤ H ├──■───░─┤ X ├──────░─┤M├─╫──░─────────────────────────\n",
       "   └───┘┌─┴─┐ ░ └───┘      ░ └╥┘ ║  ░ ┌──────────┐┌──────────┐\n",
       "B: ─────┤ X ├─░────────────░──╫──╫──░─┤0         ├┤0         ├\n",
       "        └───┘ ░            ░  ║  ║  ░ │  If_else ││          │\n",
       "a: ═══════════════════════════╩══╬════╡0         ╞╡          ╞\n",
       "                                 ║    └──────────┘│          │\n",
       "b: ══════════════════════════════╩════════════════╡0         ╞\n",
       "                                                  └──────────┘"
      ]
     },
     "execution_count": 2,
     "metadata": {},
     "output_type": "execute_result"
    }
   ],
   "source": [
    "from qiskit import QuantumCircuit, QuantumRegister, ClassicalRegister\n",
    "qubit = QuantumRegister(1, \"Q\")\n",
    "ebit0 = QuantumRegister(1, \"A\")\n",
    "ebit1 = QuantumRegister(1, \"B\")\n",
    "a = ClassicalRegister(1, \"a\")\n",
    "b = ClassicalRegister(1, \"b\")\n",
    "\n",
    "protocol = QuantumCircuit(qubit, ebit0, ebit1, a, b)\n",
    "\n",
    "# Prepare ebit used for teleportation\n",
    "protocol.h(ebit0)\n",
    "protocol.cx(ebit0, ebit1)\n",
    "protocol.barrier()\n",
    "\n",
    "# Alice's operations\n",
    "protocol.cx(qubit, ebit0)\n",
    "protocol.h(qubit)\n",
    "protocol.barrier()\n",
    "\n",
    "# Alice measures and sends classical bits to Bob\n",
    "protocol.measure(ebit0, a)\n",
    "protocol.measure(qubit, b)\n",
    "protocol.barrier()\n",
    "\n",
    "# Bob uses the classical bits to conditionally apply gates\n",
    "with protocol.if_test((a, 1)):\n",
    "    protocol.x(ebit1)\n",
    "with protocol.if_test((b, 1)):\n",
    "    protocol.z(ebit1)\n",
    "\n",
    "protocol.draw()"
   ]
  },
  {
   "cell_type": "code",
   "execution_count": 3,
   "id": "b72611ee-9bc4-4765-8982-5d8b5e54cf02",
   "metadata": {},
   "outputs": [
    {
     "data": {
      "image/png": "[encoded data removed]",
      "text/plain": [
       "<Figure size 1193.19x451.5 with 1 Axes>"
      ]
     },
     "execution_count": 3,
     "metadata": {},
     "output_type": "execute_result"
    }
   ],
   "source": [
    "protocol.draw(output='mpl')"
   ]
  },
  {
   "cell_type": "code",
   "execution_count": 7,
   "id": "eec90dff-a2c7-47da-ab7a-17d175e9e6f1",
   "metadata": {},
   "outputs": [
    {
     "name": "stdout",
     "output_type": "stream",
     "text": [
      "\\documentclass[border=2px]{standalone}\n",
      "\n",
      "\\usepackage[braket, qm]{qcircuit}\n",
      "\\usepackage{graphicx}\n",
      "\n",
      "\\begin{document}\n",
      "\\scalebox{1.0}{\n",
      "\\Qcircuit @C=1.0em @R=0.2em @!R { \\\\\n",
      "\t \t\\nghost{{Q} :  } & \\lstick{{Q} :  } & \\qw & \\qw \\barrier[0em]{2} & \\qw & \\ctrl{1} & \\gate{\\mathrm{H}} \\barrier[0em]{2} & \\qw & \\qw & \\meter \\barrier[0em]{2} & \\qw & \\qw & \\qw & \\qw & \\qw\\\\\n",
      "\t \t\\nghost{{A} :  } & \\lstick{{A} :  } & \\gate{\\mathrm{H}} & \\ctrl{1} & \\qw & \\targ & \\qw & \\qw & \\meter & \\qw & \\qw & \\qw & \\qw & \\qw & \\qw\\\\\n",
      "\t \t\\nghost{{B} :  } & \\lstick{{B} :  } & \\qw & \\targ & \\qw & \\qw & \\qw & \\qw & \\qw & \\qw & \\qw & \\multigate{1}{\\mathrm{If_else}}_<<<{0} & \\multigate{2}{\\mathrm{If_else}}_<<<{0} & \\qw & \\qw\\\\\n",
      "\t \t\\nghost{{a} :  } & \\lstick{{a} :  } & \\cw & \\cw & \\cw & \\cw & \\cw & \\cw & \\cw \\ar @{<=} [-2,0] & \\cw & \\cw & \\cghost{\\mathrm{If_else}}_<<<{0} & \\cghost{\\mathrm{If_else}} & \\cw & \\cw\\\\\n",
      "\t \t\\nghost{{b} :  } & \\lstick{{b} :  } & \\cw & \\cw & \\cw & \\cw & \\cw & \\cw & \\cw & \\cw \\ar @{<=} [-4,0] & \\cw & \\cw & \\cghost{\\mathrm{If_else}}_<<<{0} & \\cw & \\cw\\\\\n",
      "\\\\ }}\n",
      "\\end{document}\n"
     ]
    }
   ],
   "source": [
    "print(protocol.draw(output='latex_source'))"
   ]
  },
  {
   "cell_type": "code",
   "execution_count": null,
   "id": "961eb3dc-10e3-4cee-8bb6-cd1cbfae2b2c",
   "metadata": {},
   "outputs": [],
   "source": []
  }
 ],
 "metadata": {
  "kernelspec": {
   "display_name": "Python 3 (ipykernel)",
   "language": "python",
   "name": "python3"
  },
  "language_info": {
   "codemirror_mode": {
    "name": "ipython",
    "version": 3
   },
   "file_extension": ".py",
   "mimetype": "text/x-python",
   "name": "python",
   "nbconvert_exporter": "python",
   "pygments_lexer": "ipython3",
   "version": "3.11.5"
  }
 },
 "nbformat": 4,
 "nbformat_minor": 5
}
